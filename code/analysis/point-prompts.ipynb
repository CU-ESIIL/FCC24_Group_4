{
 "cells": [
  {
   "cell_type": "code",
   "execution_count": null,
   "id": "f23319d6-dea7-4130-b868-71b5110df1a5",
   "metadata": {},
   "outputs": [],
   "source": [
    "# % pip install groundingdino-py segment-geospatial"
   ]
  },
  {
   "cell_type": "markdown",
   "id": "1cede544-812d-42a0-8a14-fa23a87bab50",
   "metadata": {},
   "source": [
    "# Testing out point prompting for log pile segmentation\n",
    "\n",
    "This example is adapted from https://samgeo.gishub.org/examples/input_prompts/\n"
   ]
  },
  {
   "cell_type": "code",
   "execution_count": null,
   "id": "f205ab01-6cb5-4b27-94e6-4afd0314f7cc",
   "metadata": {},
   "outputs": [],
   "source": [
    "from samgeo import SamGeo, tms_to_geotiff"
   ]
  },
  {
   "cell_type": "code",
   "execution_count": null,
   "id": "4f3406d8-cd5e-4fce-b097-191247673980",
   "metadata": {},
   "outputs": [],
   "source": [
    "bbox = [-106.379, 40.018, -106.37, 40.0225]"
   ]
  },
  {
   "cell_type": "code",
   "execution_count": null,
   "id": "e6988d98-daec-4236-bc1d-56ed732cfe19",
   "metadata": {},
   "outputs": [],
   "source": [
    "image = \"satellite.tif\"\n",
    "tms_to_geotiff(output=image, bbox=bbox, zoom=19, source=\"Satellite\", overwrite=True)"
   ]
  },
  {
   "cell_type": "code",
   "execution_count": null,
   "id": "1fba3676-c8fc-4f6f-9ada-9bf0e4fd8ec6",
   "metadata": {},
   "outputs": [],
   "source": [
    "sam = SamGeo(\n",
    "    model_type=\"vit_h\",\n",
    "    automatic=False,\n",
    "    sam_kwargs=None,\n",
    ")"
   ]
  },
  {
   "cell_type": "code",
   "execution_count": null,
   "id": "34e6ca1d-035e-49a1-adbe-c0b2a1b50b2a",
   "metadata": {},
   "outputs": [],
   "source": [
    "sam.set_image(image)"
   ]
  },
  {
   "cell_type": "code",
   "execution_count": null,
   "id": "685674ee-f2cf-4f69-ac75-911c39fac7c0",
   "metadata": {},
   "outputs": [],
   "source": [
    "log_coords = [\n",
    "    [-106.3748701, 40.0208968],\n",
    "    [-106.3746750, 40.0211880],\n",
    "    [-106.3734266, 40.0212524],\n",
    "    [-106.3753353, 40.0215654],\n",
    "    [-106.37515987, 40.02019197],\n",
    "    [-106.3747749, 40.0202933],\n",
    "    [-106.3741671, 40.0209093],\n",
    "    [-106.3731381, 40.0205163], \n",
    "]\n",
    "\n",
    "background_coords = [\n",
    "    [-106.3750153, 40.0211513],\n",
    "    [-106.3759026, 40.0210525],\n",
    "    [-106.3757408, 40.0203401],\n",
    "    [-106.3737822, 40.0203241],\n",
    "]\n",
    "\n",
    "n_log_pts = len(log_coords)\n",
    "n_background_pts = len(background_coords)\n",
    "\n",
    "point_coords = log_coords + background_coords\n",
    "\n",
    "point_labels = [1] * n_log_pts + [0] * n_background_pts"
   ]
  },
  {
   "cell_type": "code",
   "execution_count": null,
   "id": "69859dd8-9fc9-4ad5-92ca-a73305781861",
   "metadata": {},
   "outputs": [],
   "source": [
    "sam.predict(point_coords, point_labels=point_labels, point_crs=\"EPSG:4326\", output=\"mask_w_bg.tif\")"
   ]
  },
  {
   "cell_type": "markdown",
   "id": "6d6fa227-fea4-4e24-b772-ced891c06dfa",
   "metadata": {},
   "source": [
    "Finally, save the labeled points as a geopackage to visualize in a GIS. "
   ]
  },
  {
   "cell_type": "code",
   "execution_count": null,
   "id": "4db2848c-4ea2-49e8-8b33-c1c5c821be6f",
   "metadata": {},
   "outputs": [],
   "source": [
    "import geopandas as gpd\n",
    "\n",
    "gdf = gpd.GeoDataFrame(\n",
    "    {\"label\": point_labels}, \n",
    "    geometry=gpd.points_from_xy(\n",
    "        x=[p[0] for p in point_coords], \n",
    "        y=[p[1] for p in point_coords],\n",
    "    ), \n",
    "    crs=4326\n",
    ")\n",
    "\n",
    "gdf.to_file(\"labels.gpkg\")"
   ]
  },
  {
   "cell_type": "code",
   "execution_count": null,
   "id": "d7e02134-8fd9-4e8a-b6e6-94226b28122e",
   "metadata": {},
   "outputs": [],
   "source": []
  }
 ],
 "metadata": {
  "kernelspec": {
   "display_name": "macrosystems",
   "language": "python",
   "name": "macrosystems"
  },
  "language_info": {
   "codemirror_mode": {
    "name": "ipython",
    "version": 3
   },
   "file_extension": ".py",
   "mimetype": "text/x-python",
   "name": "python",
   "nbconvert_exporter": "python",
   "pygments_lexer": "ipython3",
   "version": "3.10.13"
  }
 },
 "nbformat": 4,
 "nbformat_minor": 5
}
