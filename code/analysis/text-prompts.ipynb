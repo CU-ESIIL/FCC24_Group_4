{
 "cells": [
  {
   "cell_type": "code",
   "execution_count": null,
   "id": "6530ba47-673f-4e19-bbde-848c8f156b8f",
   "metadata": {},
   "outputs": [],
   "source": [
    "# % pip install groundingdino-py segment-geospatial"
   ]
  },
  {
   "cell_type": "markdown",
   "id": "5384bdeb-6130-43b5-87eb-b56c52b41125",
   "metadata": {},
   "source": [
    "# Testing out text prompting for SAM geospatial\n",
    "\n",
    "Adapted from: https://samgeo.gishub.org/examples/text_prompts/"
   ]
  },
  {
   "cell_type": "code",
   "execution_count": null,
   "id": "631aa390-faa4-450f-b8af-d3606c46d32f",
   "metadata": {},
   "outputs": [],
   "source": [
    "from samgeo import tms_to_geotiff, split_raster\n",
    "from samgeo.text_sam import LangSAM"
   ]
  },
  {
   "cell_type": "code",
   "execution_count": null,
   "id": "cc7fa763-f5d9-430d-8767-6141a2750e0c",
   "metadata": {},
   "outputs": [],
   "source": [
    "bbox = [-106.379, 40.018, -106.37, 40.0225]"
   ]
  },
  {
   "cell_type": "code",
   "execution_count": null,
   "id": "10c58962-c7e5-47ff-bd85-2dcaf8d660b3",
   "metadata": {},
   "outputs": [],
   "source": [
    "image = \"Image.tif\"\n",
    "tms_to_geotiff(output=image, bbox=bbox, zoom=19, source=\"Satellite\", overwrite=True)"
   ]
  },
  {
   "cell_type": "code",
   "execution_count": null,
   "id": "2807e9f1-9300-43ad-9b41-13ec72b807d5",
   "metadata": {},
   "outputs": [],
   "source": [
    "split_raster(image, out_dir=\"tiles\", tile_size=(1000, 1000), overlap=0)"
   ]
  },
  {
   "cell_type": "code",
   "execution_count": null,
   "id": "168d79e9-d254-49a0-834c-34db21fd1ab8",
   "metadata": {},
   "outputs": [],
   "source": [
    "sam = LangSAM()"
   ]
  },
  {
   "cell_type": "code",
   "execution_count": null,
   "id": "cbaa778a-2a75-4cc4-8d29-77a4c951c2d2",
   "metadata": {},
   "outputs": [],
   "source": [
    "text_prompt = \"find stacks of lumber or stacks of logs\""
   ]
  },
  {
   "cell_type": "code",
   "execution_count": null,
   "id": "cb18dbfd-9e82-4b14-accf-c7c4b1bdc570",
   "metadata": {},
   "outputs": [],
   "source": [
    "sam.predict_batch(\n",
    "    images='tiles',\n",
    "    out_dir='masks',\n",
    "    text_prompt=text_prompt,\n",
    "    box_threshold=0.24,\n",
    "    text_threshold=0.24,\n",
    "    merge=True,\n",
    "    verbose=True,\n",
    ")"
   ]
  },
  {
   "cell_type": "code",
   "execution_count": null,
   "id": "ec110fe7-eedf-4c9f-888d-063acd8d0ad7",
   "metadata": {},
   "outputs": [],
   "source": []
  }
 ],
 "metadata": {
  "kernelspec": {
   "display_name": "macrosystems",
   "language": "python",
   "name": "macrosystems"
  },
  "language_info": {
   "codemirror_mode": {
    "name": "ipython",
    "version": 3
   },
   "file_extension": ".py",
   "mimetype": "text/x-python",
   "name": "python",
   "nbconvert_exporter": "python",
   "pygments_lexer": "ipython3",
   "version": "3.10.13"
  }
 },
 "nbformat": 4,
 "nbformat_minor": 5
}
