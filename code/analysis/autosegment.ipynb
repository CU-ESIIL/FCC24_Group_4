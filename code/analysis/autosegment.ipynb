{
 "cells": [
  {
   "cell_type": "code",
   "execution_count": null,
   "id": "5b869ac0-fd3b-4476-9821-5b5ff13b3ca9",
   "metadata": {},
   "outputs": [],
   "source": [
    "# % pip install groundingdino-py segment-geospatial"
   ]
  },
  {
   "cell_type": "markdown",
   "id": "984e5ac1-8805-4f80-b485-cc71b6be259c",
   "metadata": {},
   "source": [
    "# Automatically find unique objects at a mill using Segment Anything\n",
    "\n",
    "This notebook is adapted from https://samgeo.gishub.org/examples/automatic_mask_generator/"
   ]
  },
  {
   "cell_type": "code",
   "execution_count": null,
   "id": "26688775-b590-480f-bcb4-22042b891290",
   "metadata": {},
   "outputs": [],
   "source": [
    "from samgeo import SamGeo, show_image, download_file, overlay_images, tms_to_geotiff"
   ]
  },
  {
   "cell_type": "code",
   "execution_count": null,
   "id": "d2298496-0d05-41fd-9255-1ec95b0f96b1",
   "metadata": {},
   "outputs": [],
   "source": [
    "bbox = [-106.379, 40.018, -106.37, 40.0225]"
   ]
  },
  {
   "cell_type": "code",
   "execution_count": null,
   "id": "18ea195b-0f49-4e4b-8d6f-9d285f0d8e34",
   "metadata": {},
   "outputs": [],
   "source": [
    "image = \"satellite.tif\"\n",
    "tms_to_geotiff(output=image, bbox=bbox, zoom=19, source=\"Satellite\", overwrite=True)"
   ]
  },
  {
   "cell_type": "code",
   "execution_count": null,
   "id": "15c6d062-33bc-446c-82c0-0a6dbd810252",
   "metadata": {},
   "outputs": [],
   "source": [
    "sam = SamGeo(\n",
    "    model_type=\"vit_h\",\n",
    "    sam_kwargs=None,\n",
    ")"
   ]
  },
  {
   "cell_type": "code",
   "execution_count": null,
   "id": "729a0b4c-bc03-41be-9b7c-bb27dbdb67f6",
   "metadata": {},
   "outputs": [],
   "source": [
    "sam.generate(image, output=\"masks_low_iou_thresh.tif\", foreground=True, unique=True)"
   ]
  },
  {
   "cell_type": "code",
   "execution_count": null,
   "id": "06cb1454-1048-45ad-afac-6b4a65842fe8",
   "metadata": {},
   "outputs": [],
   "source": []
  }
 ],
 "metadata": {
  "kernelspec": {
   "display_name": "macrosystems",
   "language": "python",
   "name": "macrosystems"
  },
  "language_info": {
   "codemirror_mode": {
    "name": "ipython",
    "version": 3
   },
   "file_extension": ".py",
   "mimetype": "text/x-python",
   "name": "python",
   "nbconvert_exporter": "python",
   "pygments_lexer": "ipython3",
   "version": "3.10.13"
  }
 },
 "nbformat": 4,
 "nbformat_minor": 5
}
