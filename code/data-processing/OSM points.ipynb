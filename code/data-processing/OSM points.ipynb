{
 "cells": [
  {
   "cell_type": "code",
   "execution_count": 49,
   "id": "cc050605-c46c-45da-a003-b9fb455ee902",
   "metadata": {},
   "outputs": [],
   "source": [
    "# Load the \"osmdata\" package for mapping\n",
    "library(osmdata)\n",
    "library(ggplot2)\n",
    "library(sf)\n",
    "library(dplyr)"
   ]
  },
  {
   "cell_type": "code",
   "execution_count": null,
   "id": "e43c2e18-dffa-4051-a982-3c673caf7fe7",
   "metadata": {},
   "outputs": [],
   "source": [
    "Data (c) OpenStreetMap contributors, ODbL 1.0. https://www.openstreetmap.org/copyright"
   ]
  },
  {
   "cell_type": "code",
   "execution_count": 50,
   "id": "b8dc9318-2e17-4c10-a4b5-abf1ab5576ed",
   "metadata": {},
   "outputs": [
    {
     "ename": "ERROR",
     "evalue": "Error in check_for_error(paste0(doc)): General overpass server error; returned:\nThe data included in this document is from www.openstreetmap.org. The data is made available under ODbL. runtime error: Query timed out in \"query\" at line 4 after 122 seconds. \n",
     "output_type": "error",
     "traceback": [
      "Error in check_for_error(paste0(doc)): General overpass server error; returned:\nThe data included in this document is from www.openstreetmap.org. The data is made available under ODbL. runtime error: Query timed out in \"query\" at line 4 after 122 seconds. \nTraceback:\n",
      "1. getbb(\"Colorado, USA\") %>% opq(timeout = 120) %>% add_osm_feature(key = \"craft\", \n .     value = \"sawmill\") %>% osmdata_sf()",
      "2. osmdata_sf(.)",
      "3. fill_overpass_data(obj, doc, quiet = quiet)",
      "4. overpass_query(query = obj$overpass_call, quiet = quiet, encoding = encoding)",
      "5. check_for_error(paste0(doc))",
      "6. stop(\"General overpass server error; returned:\\n\", xml2::xml_text(docx))"
     ]
    }
   ],
   "source": [
    "# Colorado craft = sawmill\n",
    "sawmill_cocr <- getbb(\"Colorado, USA\") %>%\n",
    "  opq(timeout = 120)%>%\n",
    "  add_osm_feature(key = \"craft\",\n",
    "                  value = \"sawmill\") %>%\n",
    "  osmdata_sf()\n",
    "\n",
    "coords <- sawmill_cocr$osm_points |> st_coordinates()\n",
    "coords[, 2:1]"
   ]
  },
  {
   "cell_type": "code",
   "execution_count": 45,
   "id": "095ae793-aee9-47b4-8c43-d1d5015dd6e6",
   "metadata": {
    "scrolled": true
   },
   "outputs": [
    {
     "data": {
      "text/html": [],
      "text/latex": [],
      "text/markdown": [],
      "text/plain": [
       "     [,1] [,2]"
      ]
     },
     "metadata": {},
     "output_type": "display_data"
    },
    {
     "data": {
      "text/html": [
       "0"
      ],
      "text/latex": [
       "0"
      ],
      "text/markdown": [
       "0"
      ],
      "text/plain": [
       "[1] 0"
      ]
     },
     "metadata": {},
     "output_type": "display_data"
    }
   ],
   "source": [
    "# Colorado industrial = sawmill\n",
    "sawmill_coin <- getbb(\"Colorado, USA\") %>%\n",
    "  opq(timeout = 120)%>%\n",
    "  add_osm_feature(key = \"industrial\",\n",
    "                  value = \"sawmill\") %>%\n",
    "  osmdata_sf()\n",
    "\n",
    "coords <- sawmill_coin$osm_points |> st_coordinates()\n",
    "coords[, 2:1]\n",
    "nrow(coords)"
   ]
  },
  {
   "cell_type": "code",
   "execution_count": 46,
   "id": "68bd196e-7f26-4a30-a8f0-e3dbfb33aa97",
   "metadata": {},
   "outputs": [
    {
     "data": {
      "text/html": [],
      "text/latex": [],
      "text/markdown": [],
      "text/plain": [
       "     [,1] [,2]"
      ]
     },
     "metadata": {},
     "output_type": "display_data"
    },
    {
     "data": {
      "text/html": [
       "0"
      ],
      "text/latex": [
       "0"
      ],
      "text/markdown": [
       "0"
      ],
      "text/plain": [
       "[1] 0"
      ]
     },
     "metadata": {},
     "output_type": "display_data"
    }
   ],
   "source": [
    "# Wyoming craft = sawmill\n",
    "sawmill_wycr <- getbb(\"Wyoming, USA\") %>%\n",
    "  opq(timeout = 120)%>%\n",
    "  add_osm_feature(key = \"craft\",\n",
    "                  value = \"sawmill\") %>%\n",
    "  osmdata_sf()\n",
    "\n",
    "coords <- sawmill_wycr$osm_points |> st_coordinates()\n",
    "coords[, 2:1]\n",
    "nrow(coords)"
   ]
  },
  {
   "cell_type": "code",
   "execution_count": 44,
   "id": "0858b78e-2e32-41a9-bc76-6c9a428e5da9",
   "metadata": {},
   "outputs": [
    {
     "data": {
      "text/html": [],
      "text/latex": [],
      "text/markdown": [],
      "text/plain": [
       "     [,1] [,2]"
      ]
     },
     "metadata": {},
     "output_type": "display_data"
    },
    {
     "data": {
      "text/html": [
       "0"
      ],
      "text/latex": [
       "0"
      ],
      "text/markdown": [
       "0"
      ],
      "text/plain": [
       "[1] 0"
      ]
     },
     "metadata": {},
     "output_type": "display_data"
    }
   ],
   "source": [
    "# Wyoming industrial = sawmill\n",
    "sawmill_wyin <- getbb(\"Wyoming, USA\") %>%\n",
    "  opq(timeout = 120)%>%\n",
    "  add_osm_feature(key = \"industrial\",\n",
    "                  value = \"sawmill\") %>%\n",
    "  osmdata_sf()\n",
    "\n",
    "coords <- sawmill_wyin$osm_points |> st_coordinates()\n",
    "coords[, 2:1]\n",
    "nrow(coords)"
   ]
  }
 ],
 "metadata": {
  "kernelspec": {
   "display_name": "R",
   "language": "R",
   "name": "ir"
  },
  "language_info": {
   "codemirror_mode": "r",
   "file_extension": ".r",
   "mimetype": "text/x-r-source",
   "name": "R",
   "pygments_lexer": "r",
   "version": "4.2.3"
  }
 },
 "nbformat": 4,
 "nbformat_minor": 5
}
