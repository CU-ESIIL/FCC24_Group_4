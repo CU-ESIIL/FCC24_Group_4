{
 "cells": [
  {
   "cell_type": "code",
   "execution_count": 34,
   "id": "cc050605-c46c-45da-a003-b9fb455ee902",
   "metadata": {},
   "outputs": [],
   "source": [
    "# Load the \"osmdata\" package for mapping\n",
    "library(osmdata)\n",
    "library(ggplot2)\n",
    "library(sf)\n",
    "library(dplyr)"
   ]
  },
  {
   "cell_type": "code",
   "execution_count": null,
   "id": "e43c2e18-dffa-4051-a982-3c673caf7fe7",
   "metadata": {},
   "outputs": [],
   "source": [
    "Data (c) OpenStreetMap contributors, ODbL 1.0. https://www.openstreetmap.org/copyright"
   ]
  },
  {
   "cell_type": "code",
   "execution_count": 36,
   "id": "b8dc9318-2e17-4c10-a4b5-abf1ab5576ed",
   "metadata": {},
   "outputs": [
    {
     "data": {
      "text/html": [
       "<table class=\"dataframe\">\n",
       "<caption>A matrix: 9 × 2 of type dbl</caption>\n",
       "<thead>\n",
       "\t<tr><th scope=col>Y</th><th scope=col>X</th></tr>\n",
       "</thead>\n",
       "<tbody>\n",
       "\t<tr><td>37.38623</td><td>-108.5515</td></tr>\n",
       "\t<tr><td>40.67753</td><td>-105.1780</td></tr>\n",
       "\t<tr><td>40.67587</td><td>-105.1806</td></tr>\n",
       "\t<tr><td>40.67630</td><td>-105.1784</td></tr>\n",
       "\t<tr><td>40.67717</td><td>-105.1775</td></tr>\n",
       "\t<tr><td>40.67582</td><td>-105.1801</td></tr>\n",
       "\t<tr><td>40.67598</td><td>-105.1792</td></tr>\n",
       "\t<tr><td>40.67670</td><td>-105.1778</td></tr>\n",
       "\t<tr><td>40.67704</td><td>-105.1791</td></tr>\n",
       "</tbody>\n",
       "</table>\n"
      ],
      "text/latex": [
       "A matrix: 9 × 2 of type dbl\n",
       "\\begin{tabular}{ll}\n",
       " Y & X\\\\\n",
       "\\hline\n",
       "\t 37.38623 & -108.5515\\\\\n",
       "\t 40.67753 & -105.1780\\\\\n",
       "\t 40.67587 & -105.1806\\\\\n",
       "\t 40.67630 & -105.1784\\\\\n",
       "\t 40.67717 & -105.1775\\\\\n",
       "\t 40.67582 & -105.1801\\\\\n",
       "\t 40.67598 & -105.1792\\\\\n",
       "\t 40.67670 & -105.1778\\\\\n",
       "\t 40.67704 & -105.1791\\\\\n",
       "\\end{tabular}\n"
      ],
      "text/markdown": [
       "\n",
       "A matrix: 9 × 2 of type dbl\n",
       "\n",
       "| Y | X |\n",
       "|---|---|\n",
       "| 37.38623 | -108.5515 |\n",
       "| 40.67753 | -105.1780 |\n",
       "| 40.67587 | -105.1806 |\n",
       "| 40.67630 | -105.1784 |\n",
       "| 40.67717 | -105.1775 |\n",
       "| 40.67582 | -105.1801 |\n",
       "| 40.67598 | -105.1792 |\n",
       "| 40.67670 | -105.1778 |\n",
       "| 40.67704 | -105.1791 |\n",
       "\n"
      ],
      "text/plain": [
       "      Y        X        \n",
       " [1,] 37.38623 -108.5515\n",
       " [2,] 40.67753 -105.1780\n",
       " [3,] 40.67587 -105.1806\n",
       " [4,] 40.67630 -105.1784\n",
       " [5,] 40.67717 -105.1775\n",
       " [6,] 40.67582 -105.1801\n",
       " [7,] 40.67598 -105.1792\n",
       " [8,] 40.67670 -105.1778\n",
       " [9,] 40.67704 -105.1791"
      ]
     },
     "metadata": {},
     "output_type": "display_data"
    },
    {
     "data": {
      "text/html": [],
      "text/latex": [],
      "text/markdown": [],
      "text/plain": [
       "     [,1] [,2]"
      ]
     },
     "metadata": {},
     "output_type": "display_data"
    }
   ],
   "source": [
    "# Colorado craft = sawmill\n",
    "sawmill_cocr <- getbb(\"Colorado, USA\") %>%\n",
    "  opq(timeout = 120)%>%\n",
    "  add_osm_feature(key = \"craft\",\n",
    "                  value = \"sawmill\") %>%\n",
    "  osmdata_sf()\n",
    "\n",
    "coords <- sawmill_cocr$osm_points |> st_coordinates()\n",
    "coords[, 2:1]"
   ]
  },
  {
   "cell_type": "code",
   "execution_count": 45,
   "id": "095ae793-aee9-47b4-8c43-d1d5015dd6e6",
   "metadata": {
    "scrolled": true
   },
   "outputs": [
    {
     "data": {
      "text/html": [],
      "text/latex": [],
      "text/markdown": [],
      "text/plain": [
       "     [,1] [,2]"
      ]
     },
     "metadata": {},
     "output_type": "display_data"
    },
    {
     "data": {
      "text/html": [
       "0"
      ],
      "text/latex": [
       "0"
      ],
      "text/markdown": [
       "0"
      ],
      "text/plain": [
       "[1] 0"
      ]
     },
     "metadata": {},
     "output_type": "display_data"
    }
   ],
   "source": [
    "# Colorado industrial = sawmill\n",
    "sawmill_coin <- getbb(\"Colorado, USA\") %>%\n",
    "  opq(timeout = 120)%>%\n",
    "  add_osm_feature(key = \"industrial\",\n",
    "                  value = \"sawmill\") %>%\n",
    "  osmdata_sf()\n",
    "\n",
    "coords <- sawmill_coin$osm_points |> st_coordinates()\n",
    "coords[, 2:1]\n",
    "nrow(coords)"
   ]
  },
  {
   "cell_type": "code",
   "execution_count": 46,
   "id": "68bd196e-7f26-4a30-a8f0-e3dbfb33aa97",
   "metadata": {},
   "outputs": [
    {
     "data": {
      "text/html": [],
      "text/latex": [],
      "text/markdown": [],
      "text/plain": [
       "     [,1] [,2]"
      ]
     },
     "metadata": {},
     "output_type": "display_data"
    },
    {
     "data": {
      "text/html": [
       "0"
      ],
      "text/latex": [
       "0"
      ],
      "text/markdown": [
       "0"
      ],
      "text/plain": [
       "[1] 0"
      ]
     },
     "metadata": {},
     "output_type": "display_data"
    }
   ],
   "source": [
    "# Wyoming craft = sawmill\n",
    "sawmill_wycr <- getbb(\"Wyoming, USA\") %>%\n",
    "  opq(timeout = 120)%>%\n",
    "  add_osm_feature(key = \"craft\",\n",
    "                  value = \"sawmill\") %>%\n",
    "  osmdata_sf()\n",
    "\n",
    "coords <- sawmill_wycr$osm_points |> st_coordinates()\n",
    "coords[, 2:1]\n",
    "nrow(coords)"
   ]
  },
  {
   "cell_type": "code",
   "execution_count": 44,
   "id": "0858b78e-2e32-41a9-bc76-6c9a428e5da9",
   "metadata": {},
   "outputs": [
    {
     "data": {
      "text/html": [],
      "text/latex": [],
      "text/markdown": [],
      "text/plain": [
       "     [,1] [,2]"
      ]
     },
     "metadata": {},
     "output_type": "display_data"
    },
    {
     "data": {
      "text/html": [
       "0"
      ],
      "text/latex": [
       "0"
      ],
      "text/markdown": [
       "0"
      ],
      "text/plain": [
       "[1] 0"
      ]
     },
     "metadata": {},
     "output_type": "display_data"
    }
   ],
   "source": [
    "# Wyoming industrial = sawmill\n",
    "sawmill_wyin <- getbb(\"Wyoming, USA\") %>%\n",
    "  opq(timeout = 120)%>%\n",
    "  add_osm_feature(key = \"industrial\",\n",
    "                  value = \"sawmill\") %>%\n",
    "  osmdata_sf()\n",
    "\n",
    "coords <- sawmill_wyin$osm_points |> st_coordinates()\n",
    "coords[, 2:1]\n",
    "nrow(coords)"
   ]
  }
 ],
 "metadata": {
  "kernelspec": {
   "display_name": "R",
   "language": "R",
   "name": "ir"
  },
  "language_info": {
   "codemirror_mode": "r",
   "file_extension": ".r",
   "mimetype": "text/x-r-source",
   "name": "R",
   "pygments_lexer": "r",
   "version": "4.2.3"
  }
 },
 "nbformat": 4,
 "nbformat_minor": 5
}
